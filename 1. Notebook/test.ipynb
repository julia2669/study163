{
 "cells": [
  {
   "cell_type": "code",
   "execution_count": 23,
   "metadata": {},
   "outputs": [
    {
     "data": {
      "text/plain": [
       "'a'"
      ]
     },
     "execution_count": 23,
     "metadata": {},
     "output_type": "execute_result"
    }
   ],
   "source": [
    "strs = ['julia', 'julizhou cfgr9ji','julisdsting','juliadssdpe']\n",
    "strs = ['ab','a']\n",
    "strs.sort(key=lambda x:len(x))\n",
    "strs[0][:1] "
   ]
  },
  {
   "cell_type": "code",
   "execution_count": 22,
   "metadata": {},
   "outputs": [],
   "source": [
    "for x in range(len(strs[0])+1):\n",
    "    for i in strs:\n",
    "        if strs[0][:x] == i[:x]:\n",
    "            continue\n",
    "        else:\n",
    "            print(strs[0][:x])"
   ]
  },
  {
   "cell_type": "code",
   "execution_count": 76,
   "metadata": {},
   "outputs": [
    {
     "name": "stdout",
     "output_type": "stream",
     "text": [
      "{'s': [0, 1]}\n",
      "重复: s\n",
      "\n",
      "y: 0\n",
      "z: 1\n",
      "(----------)\n",
      "ss ss\n",
      "重复字符串 ss\n",
      "y: 1\n"
     ]
    }
   ],
   "source": [
    "s='ss'\n",
    "dulp={}\n",
    "ind=0\n",
    "for i in s:    \n",
    "    if s.count(i)>1:\n",
    "        if dulp.get(i) is not None:\n",
    "            dulp[i].append(ind)\n",
    "        else:\n",
    "            dulp[i]=[ind]\n",
    "    ind+=1\n",
    "print(dulp)\n",
    "for i in dulp:\n",
    "    print('重复:',i)\n",
    "    print()\n",
    "    nums = dulp.get(i)\n",
    "    for y in nums:\n",
    "        print('y:',y)\n",
    "       \n",
    "        for z in nums[nums.index(y)+1:]:\n",
    "            print('z:',z)\n",
    "            print('(----------)')\n",
    "            print(s[y:z+1],s[y:z+1][::-1])\n",
    "            if s[y:z+1]==s[y:z+1][::-1]:print(\"重复字符串\",s[y:z+1])"
   ]
  },
  {
   "cell_type": "code",
   "execution_count": 80,
   "metadata": {},
   "outputs": [
    {
     "name": "stdout",
     "output_type": "stream",
     "text": [
      "2\n"
     ]
    }
   ],
   "source": [
    "b=['a','vf']\n",
    "s = lambda x: max(len(a) for a in x)\n",
    "print(s(b))"
   ]
  }
 ],
 "metadata": {
  "kernelspec": {
   "display_name": "Python 3",
   "language": "python",
   "name": "python3"
  },
  "language_info": {
   "codemirror_mode": {
    "name": "ipython",
    "version": 3
   },
   "file_extension": ".py",
   "mimetype": "text/x-python",
   "name": "python",
   "nbconvert_exporter": "python",
   "pygments_lexer": "ipython3",
   "version": "3.7.4"
  }
 },
 "nbformat": 4,
 "nbformat_minor": 2
}
